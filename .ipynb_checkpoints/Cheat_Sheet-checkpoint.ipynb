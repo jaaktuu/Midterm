{
 "cells": [
  {
   "cell_type": "code",
   "execution_count": 23,
   "id": "0f6a06b1",
   "metadata": {},
   "outputs": [],
   "source": [
    "import numpy as np\n",
    "import pandas as pd\n",
    "import requests\n",
    "import re\n",
    "from requests import get\n",
    "from bs4 import BeautifulSoup"
   ]
  },
  {
   "cell_type": "markdown",
   "id": "ab67eee3",
   "metadata": {},
   "source": [
    "## Setup"
   ]
  },
  {
   "cell_type": "code",
   "execution_count": null,
   "id": "0b429c59",
   "metadata": {},
   "outputs": [],
   "source": [
    "#Read CSV\n",
    "data1 = pd.read_csv(r'C:\\Users\\tuke-\\Desktop\\1_GSB544_Computing_and_Machine_Learning\\Week_1_Lab\\data\\q1data.csv')\n"
   ]
  },
  {
   "cell_type": "markdown",
   "id": "ff9ce5f3",
   "metadata": {},
   "source": [
    "## Plotnine"
   ]
  },
  {
   "cell_type": "code",
   "execution_count": null,
   "id": "c6324c73",
   "metadata": {},
   "outputs": [],
   "source": [
    "#Importing functions\n",
    "from plotnine import (\n",
    "    ggplot,\n",
    "    aes)\n",
    "\n",
    "(ggplot(data1) +\n",
    "    theme_bw() +\n",
    "    geom_text(label = '2010', x = 12.3, y = 50, size = 200, alpha = 0.5, color = 'lightgrey') +\n",
    "    geom_point(aes(y='life_exp', x='income',size = 'population', fill = 'four_regions')) +\n",
    "    labs(x = 'Income', y = 'Life Expectancy', fill = 'World Region') +\n",
    "    scale_y_continuous(limits=(20,90), \n",
    "                        breaks= [20,30,40,50,60,70,80,90], \n",
    "                        labels = ['20','30','40','50','60','70','80','90']) +\n",
    "    theme(\n",
    "         figure_size = (12,5), \n",
    "         line = element_line(color = 'lightgrey'), \n",
    "         panel_grid_minor_x = element_blank(),\n",
    "         panel_grid_minor_y = element_blank(), \n",
    "         axis_line=element_line(size=3, color = 'darkgrey'),\n",
    "         panel_border = element_blank()\n",
    "         ) +\n",
    "    scale_size(range=(0,20)) +\n",
    "    guides(size=False)\n",
    ")\n",
    "\n"
   ]
  },
  {
   "cell_type": "markdown",
   "id": "093d6885",
   "metadata": {},
   "source": [
    "## Data Wrangling/Manipulation"
   ]
  },
  {
   "cell_type": "markdown",
   "id": "92a61b1a",
   "metadata": {},
   "source": [
    "Remember to check if the data is pandas of numpy"
   ]
  },
  {
   "cell_type": "code",
   "execution_count": null,
   "id": "6c1c54f2",
   "metadata": {},
   "outputs": [],
   "source": [
    "#Change values to numeric and delete any values that cannot be converted\n",
    "data2['energy'] = pd.to_numeric(data2['energy'], errors = 'coerce')\n",
    "\n",
    "#Using Apply to use a function on each row of dataframe\n",
    "data1['income'] = data1['income'].apply(np.log2)\n",
    "\n",
    "#Iterating over each row of a column \"Geography\" to see if it\n",
    "#matches a list, if so, it will add a tag to a new column \"region_type\"\n",
    "for i in cado.index:\n",
    "    if cado.loc[i, 'geography'] in ['California', 'South Carolina', 'West Tex/New Mexico', 'Northern New England']:\n",
    "        cado.loc[i, 'region_type'] = 'state'\n",
    "    elif cado.loc[i, 'geography'] in ['Midsouth', 'Northeast', 'Southeast', 'West']:\n",
    "        cado.loc[i, 'region_type'] = 'major'\n",
    "    elif cado.loc[i, 'geography'] in ['Total U.S.']:\n",
    "        cado.loc[i, 'region_type'] = 'us'\n",
    "    else: \n",
    "        cado.loc[i, 'region_type'] = 'metro'\n",
    "\n",
    "#Renaming Columns\n",
    "cado = cado.rename(columns={'4046': 'small_hass', \n",
    "                            '4225': 'large_hass', \n",
    "                            '4770': 'xlarge_hass',\n",
    "                           'year': '_year'})\n",
    "\n",
    "#Filter data to include major region with organic avocados in 2017\n",
    "avocado_major_organic_2017 = avocado_clean[(avocado_clean['region_type'] == 'major') &\n",
    "                                        (avocado_clean['type'] == 'organic') &\n",
    "                                        (avocado_clean['_year'] == 2017)]\n",
    "#Take the sum of small hass based on grouping in mojor regions\n",
    "avocado_major_organic_2017_sum = avocado_major_organic_2017.groupby('geography')['small_hass'].sum()\n",
    "\n",
    "print('The highest sales for a major region were in the: ' + avocado_major_organic_2017_sum.idxmax())\n",
    "\n",
    "#Splitting a date column into seperate day, month, and year columns\n",
    "avocado_clean['date'] = pd.to_datetime(avocado_clean['date'])\n",
    "\n",
    "#seperate into different columns\n",
    "avocado_clean['year'] = avocado_clean['date'].dt.year\n",
    "avocado_clean['month'] = avocado_clean['date'].dt.month\n",
    "avocado_clean['day'] = avocado_clean['date'].dt.day\n",
    "\n",
    "#delete date column\n",
    "avocado_date = avocado_clean.drop('date', axis = 1)\n",
    "\n",
    "#Filter data to include metro regions\n",
    "avocado_metro = avocado_clean[(avocado_clean['region_type'] == 'metro')]\n",
    "\n",
    "#Take the sum of volume in each geographical metro regions and reset the index\n",
    "avocado_metro_sum = avocado_metro.groupby('geography')['total_volume'].sum().reset_index()\n",
    "\n",
    "#Take the 5 highest regions\n",
    "avocado_metro_top5 = avocado_metro_sum.nlargest(5,'total_volume')\n",
    "\n",
    "#Convert to a list\n",
    "#https://pandas.pydata.org/docs/reference/api/pandas.Series.tolist.html\n",
    "avocado_metro_top5_list = avocado_metro_top5['geography'].tolist()\n",
    "\n",
    "#Filter the dataframe to only include the top 5 metro volumes\n",
    "avocado_metro_plot = avocado_clean[avocado_clean['geography'].isin(avocado_metro_top5_list)]\n",
    "\n",
    "#Filter data to include the four cities\n",
    "avocado_cali = avocado_clean[avocado_clean['geography'].isin(['Los Angeles', 'San Francisco', 'San Diego', 'Sacramento'])]\n",
    "\n",
    "#join organic and conventional to one data frame by city, year, and month\n",
    "avocado_cali_merge = avocado_cali_conv_avg.merge(avocado_cali_org_avg, on = ['geography', 'year', 'month'])\n",
    "\n",
    "#merge the year and month column to allow for plotting\n",
    "avocado_cali_merge['y_m'] = avocado_cali_merge['year'].astype(str) + '-' + avocado_cali_merge['month'].astype(str)\n",
    "\n",
    "#convert the merged string into a datetime format for the plotter to understand.\n",
    "avocado_cali_merge['y_m'] = pd.to_datetime(avocado_cali_merge['y_m'], format='%Y-%m')\n",
    "\n",
    "#Is it just me or does this variable sound like a delicious sandwich.\n",
    "#https://pandas.pydata.org/docs/reference/api/pandas.DataFrame.melt.html\n",
    "avocado_cali_melt = avocado_cali.melt(value_vars = ['small_hass', 'large_hass', 'xlarge_hass'],\n",
    "                                      var_name = 'size_type',\n",
    "                                      value_name = 'volume',\n",
    "                                      id_vars = ['geography', 'type'])\n"
   ]
  },
  {
   "cell_type": "markdown",
   "id": "88641860",
   "metadata": {},
   "source": [
    "### Functions"
   ]
  },
  {
   "cell_type": "code",
   "execution_count": null,
   "id": "10b780e0",
   "metadata": {},
   "outputs": [],
   "source": [
    "def funtion(parameter1, parameter2...):\n",
    "    \"\"\"\n",
    "    Returns plural of a noun\n",
    "  \n",
    "    Parameters\n",
    "    ----------\n",
    "    gift: str\n",
    "    A noun\n",
    "    \n",
    "    Return\n",
    "    ------\n",
    "    str\n",
    "    Plural version\n",
    "    \"\"\"\n",
    "    \n",
    "    # Check if the cell has a value in it, otherwise return an empty string\n",
    "    parameter1 = \"\" if pd.isna(parameter1) else parameter1\n",
    "    \n",
    "    if parameter3 == 1:\n",
    "        # If true and the adjective starts with a vowel, add \"an\" otherwise add \"a\n",
    "        if len(parameter2) > 0 and parameter2[0].lower() in ['a','e','i','o','u','y']:\n",
    "            parameter3 = \"an\"\n",
    "        else:\n",
    "            paremeter3 = \"a\"\n",
    "    # If not the first line, take the item and feed it to plurar function and assign number to be the word variation of the number\n",
    "    else:\n",
    "        parameter4 = pluralize_gift(parameter4)\n",
    "        parameter3 = parameter5\n",
    "    phrase = num + \" \" + adjective + \" \" + item + \" \" + verb + \" \" + location\n",
    "    return \" \".join(phrase.split())\n",
    "    "
   ]
  },
  {
   "cell_type": "code",
   "execution_count": 33,
   "id": "1b378347",
   "metadata": {},
   "outputs": [],
   "source": [
    "vec = [1,2,3,4,5,6,7]\n",
    "\n",
    "def multiply(x, y):\n",
    "    return x*y\n"
   ]
  },
  {
   "cell_type": "code",
   "execution_count": 34,
   "id": "fe278d2d",
   "metadata": {},
   "outputs": [
    {
     "data": {
      "text/plain": [
       "[1,\n",
       " 2,\n",
       " 3,\n",
       " 4,\n",
       " 5,\n",
       " 6,\n",
       " 7,\n",
       " 1,\n",
       " 2,\n",
       " 3,\n",
       " 4,\n",
       " 5,\n",
       " 6,\n",
       " 7,\n",
       " 1,\n",
       " 2,\n",
       " 3,\n",
       " 4,\n",
       " 5,\n",
       " 6,\n",
       " 7,\n",
       " 1,\n",
       " 2,\n",
       " 3,\n",
       " 4,\n",
       " 5,\n",
       " 6,\n",
       " 7,\n",
       " 1,\n",
       " 2,\n",
       " 3,\n",
       " 4,\n",
       " 5,\n",
       " 6,\n",
       " 7]"
      ]
     },
     "execution_count": 34,
     "metadata": {},
     "output_type": "execute_result"
    }
   ],
   "source": [
    "multiply(vec, 5)"
   ]
  },
  {
   "cell_type": "code",
   "execution_count": 36,
   "id": "d7948fbd",
   "metadata": {},
   "outputs": [
    {
     "data": {
      "text/html": [
       "<div>\n",
       "<style scoped>\n",
       "    .dataframe tbody tr th:only-of-type {\n",
       "        vertical-align: middle;\n",
       "    }\n",
       "\n",
       "    .dataframe tbody tr th {\n",
       "        vertical-align: top;\n",
       "    }\n",
       "\n",
       "    .dataframe thead th {\n",
       "        text-align: right;\n",
       "    }\n",
       "</style>\n",
       "<table border=\"1\" class=\"dataframe\">\n",
       "  <thead>\n",
       "    <tr style=\"text-align: right;\">\n",
       "      <th></th>\n",
       "      <th>0</th>\n",
       "    </tr>\n",
       "  </thead>\n",
       "  <tbody>\n",
       "    <tr>\n",
       "      <th>0</th>\n",
       "      <td>5</td>\n",
       "    </tr>\n",
       "    <tr>\n",
       "      <th>1</th>\n",
       "      <td>10</td>\n",
       "    </tr>\n",
       "    <tr>\n",
       "      <th>2</th>\n",
       "      <td>15</td>\n",
       "    </tr>\n",
       "    <tr>\n",
       "      <th>3</th>\n",
       "      <td>20</td>\n",
       "    </tr>\n",
       "    <tr>\n",
       "      <th>4</th>\n",
       "      <td>25</td>\n",
       "    </tr>\n",
       "    <tr>\n",
       "      <th>5</th>\n",
       "      <td>30</td>\n",
       "    </tr>\n",
       "    <tr>\n",
       "      <th>6</th>\n",
       "      <td>35</td>\n",
       "    </tr>\n",
       "  </tbody>\n",
       "</table>\n",
       "</div>"
      ],
      "text/plain": [
       "    0\n",
       "0   5\n",
       "1  10\n",
       "2  15\n",
       "3  20\n",
       "4  25\n",
       "5  30\n",
       "6  35"
      ]
     },
     "execution_count": 36,
     "metadata": {},
     "output_type": "execute_result"
    }
   ],
   "source": [
    "vec = pd.DataFrame(vec)\n",
    "\n",
    "vec.apply(lambda x: multiply(x, 5))"
   ]
  },
  {
   "cell_type": "markdown",
   "id": "53c80567",
   "metadata": {},
   "source": [
    "### Week 4"
   ]
  },
  {
   "cell_type": "code",
   "execution_count": null,
   "id": "702f9068",
   "metadata": {},
   "outputs": [],
   "source": [
    "#Number of characters\n",
    "print(\"Character count: \" + message.apply(len).sum().astype(str))\n",
    "\n",
    "#Whitespace Count\n",
    "print(\"Whitespace count: \" + message.str.count(\" \").sum().astype(str))\n",
    "\n",
    "#Word Count\n",
    "print(\"Word count: \" + message.str.findall(\"\\w+\").str.len().sum().astype(str))"
   ]
  },
  {
   "cell_type": "code",
   "execution_count": null,
   "id": "63433513",
   "metadata": {},
   "outputs": [],
   "source": [
    "#longest word\n",
    "\n",
    "#Split the words as in word count\n",
    "words = message.str.findall(\"\\w+\").explode()\n",
    "\n",
    "#Find the word that matches the longest word\n",
    "longest_word = words[words.str.len() == words.str.len().max()]\n",
    "\n",
    "#print the longest word\n",
    "print(\"Longest word: \" + longest_word.str.upper())"
   ]
  },
  {
   "cell_type": "code",
   "execution_count": null,
   "id": "30621d54",
   "metadata": {},
   "outputs": [],
   "source": [
    "#Load fresh data\n",
    "message = pd.read_csv(\"https://www.dropbox.com/s/lgpn3vmksk3ssdo/scrambled_message.txt?dl=1\")['Word']\n",
    "\n",
    "#Strip whitespace\n",
    "message = message.str.strip()\n",
    "\n",
    "\n",
    "#Replace ugh... with nothing\n",
    "message = message.str.replace(r\"ugh+[.!?]\", \"\")\n",
    "\n",
    "#only take the 13 first characters\n",
    "message = message.str.slice(0,13)\n",
    "\n",
    "#replace aa with ee\n",
    "message = message.str.replace(r\"aa\", \"ee\")\n",
    "\n",
    "#replace z with t\n",
    "message = message.str.replace(r\"z\", \"t\")\n",
    "\n",
    "#split at punctuations\n",
    "#message = message.str.split('([.,])').explode()\n",
    "\n",
    "#replace end of word b's with y's\n",
    "message = message.str.replace(r\"b$\", \"y\")\n",
    "\n",
    "#Replace starting letter, since the line is so short, it seems that just doing it twice is the simplest option\n",
    "message = message.str.replace(r\"^k\", \"v\")\n",
    "\n",
    "message = message.str.replace(r\"^K\", \"V\")\n",
    "\n",
    "message = \" \".join(message)\n",
    "\n",
    "print(message)"
   ]
  }
 ],
 "metadata": {
  "kernelspec": {
   "display_name": "Python 3 (ipykernel)",
   "language": "python",
   "name": "python3"
  },
  "language_info": {
   "codemirror_mode": {
    "name": "ipython",
    "version": 3
   },
   "file_extension": ".py",
   "mimetype": "text/x-python",
   "name": "python",
   "nbconvert_exporter": "python",
   "pygments_lexer": "ipython3",
   "version": "3.11.4"
  }
 },
 "nbformat": 4,
 "nbformat_minor": 5
}
