{
 "cells": [
  {
   "cell_type": "raw",
   "id": "b67d4248",
   "metadata": {},
   "source": [
    "---\n",
    "self-contained: True\n",
    "title: Midterm 1\n",
    "author: Tuukka Jaakkola\n",
    "date: '10/25/2023'\n",
    "output: html\n",
    "theme: darkly\n",
    "---"
   ]
  },
  {
   "cell_type": "code",
   "execution_count": 108,
   "id": "ec5c572e",
   "metadata": {},
   "outputs": [],
   "source": [
    "import numpy as np\n",
    "import pandas as pd"
   ]
  },
  {
   "cell_type": "code",
   "execution_count": 117,
   "id": "16d022ae",
   "metadata": {},
   "outputs": [],
   "source": [
    "#Read CSV\n",
    "mydata = pd.read_csv(r'C:\\Users\\tuke-\\Desktop\\1_GSB544_Computing_and_Machine_Learning\\Midterm\\data\\national_park_trails.csv')"
   ]
  },
  {
   "cell_type": "code",
   "execution_count": 118,
   "id": "a64dbed9",
   "metadata": {},
   "outputs": [
    {
     "name": "stdout",
     "output_type": "stream",
     "text": [
      "   trail_id                        name                   area_name  \\\n",
      "0  10020048     Harding Ice Field Trail  Kenai Fjords National Park   \n",
      "1  10236086  Mount Healy Overlook Trail        Denali National Park   \n",
      "2  10267857          Exit Glacier Trail  Kenai Fjords National Park   \n",
      "3  10236076        Horseshoe Lake Trail        Denali National Park   \n",
      "4  10236082          Triple Lakes Trail        Denali National Park   \n",
      "\n",
      "              city_name state_name   country_name  \\\n",
      "0                Seward     Alaska  United States   \n",
      "1  Denali National Park     Alaska  United States   \n",
      "2                Seward     Alaska  United States   \n",
      "3  Denali National Park     Alaska  United States   \n",
      "4  Denali National Park     Alaska  United States   \n",
      "\n",
      "                                _geoloc  popularity     length  \\\n",
      "0  {'lat': 60.18852, 'lng': -149.63156}     24.8931  15610.598   \n",
      "1  {'lat': 63.73049, 'lng': -148.91968}     18.0311   6920.162   \n",
      "2    {'lat': 60.18879, 'lng': -149.631}     17.7821   2896.812   \n",
      "3    {'lat': 63.73661, 'lng': -148.915}     16.2674   3379.614   \n",
      "4  {'lat': 63.73319, 'lng': -148.89682}     12.5935  29772.790   \n",
      "\n",
      "   elevation_gain  difficulty_rating    route_type  visitor_usage  avg_rating  \\\n",
      "0       1161.8976                  5  out and back            3.0         5.0   \n",
      "1        507.7968                  3  out and back            1.0         4.5   \n",
      "2         81.9912                  1  out and back            3.0         4.5   \n",
      "3        119.7864                  1          loop            2.0         4.5   \n",
      "4       1124.7120                  5  out and back            1.0         4.5   \n",
      "\n",
      "   num_reviews                                           features  \\\n",
      "0          423  ['dogs-no', 'forest', 'river', 'views', 'water...   \n",
      "1          260  ['dogs-no', 'forest', 'views', 'wild-flowers',...   \n",
      "2          224  ['dogs-no', 'partially-paved', 'views', 'wildl...   \n",
      "3          237  ['dogs-no', 'forest', 'lake', 'kids', 'views',...   \n",
      "4          110  ['dogs-no', 'lake', 'views', 'wild-flowers', '...   \n",
      "\n",
      "                                          activities units  \n",
      "0  ['birding', 'camping', 'hiking', 'nature-trips...     i  \n",
      "1  ['birding', 'camping', 'hiking', 'nature-trips...     i  \n",
      "2                              ['hiking', 'walking']     i  \n",
      "3  ['birding', 'hiking', 'nature-trips', 'trail-r...     i  \n",
      "4  ['birding', 'fishing', 'hiking', 'nature-trips...     i  \n"
     ]
    }
   ],
   "source": [
    "print(mydata.head())"
   ]
  },
  {
   "cell_type": "code",
   "execution_count": 119,
   "id": "51b531fa",
   "metadata": {},
   "outputs": [],
   "source": [
    "#Simple function to create a bool column for different values in the column that consist of a list\n",
    "def bool_column(feature, data, list_column):\n",
    "    data[feature] = data[list_column].apply(lambda x: 1 if feature in x else 0)\n",
    "    return data\n",
    "\n",
    "#mydata['dogs-no'] = mydata['features'].apply(lambda x: 1 if 'dogs-no' in x else 0)"
   ]
  },
  {
   "cell_type": "code",
   "execution_count": 120,
   "id": "e014b875",
   "metadata": {},
   "outputs": [],
   "source": [
    "#converting dogs-no feature to a bool column\n",
    "mydata = bool_column('dogs-no', mydata, 'features')\n",
    "\n",
    "#Convert _geoloc into numeric column for lat and lng\n",
    "mydata['_geoloc'] = mydata['_geoloc'].apply(lambda x: x.replace(r\"{\", \"\").replace(r\"}\", \"\"))\n",
    "\n",
    "mydata[['lat', 'lng']] = mydata['_geoloc'].str.split(',', expand=True)\n",
    "\n",
    "mydata['lat'] = mydata['lat'].str.extract('(-?\\d+\\.\\d+)', expand=False).astype(float)\n",
    "\n",
    "mydata['lng'] = mydata['lng'].str.extract('(-?\\d+\\.\\d+)', expand=False).astype(float)"
   ]
  },
  {
   "cell_type": "code",
   "execution_count": 125,
   "id": "ac12881e",
   "metadata": {},
   "outputs": [
    {
     "name": "stdout",
     "output_type": "stream",
     "text": [
      "trail_id               int64\n",
      "name                  object\n",
      "area_name             object\n",
      "city_name             object\n",
      "state_name            object\n",
      "country_name          object\n",
      "_geoloc               object\n",
      "popularity           float64\n",
      "length               float64\n",
      "elevation_gain       float64\n",
      "difficulty_rating      int64\n",
      "route_type            object\n",
      "visitor_usage        float64\n",
      "avg_rating           float64\n",
      "num_reviews            int64\n",
      "features              object\n",
      "activities            object\n",
      "units                 object\n",
      "dogs-no                int64\n",
      "lat                  float64\n",
      "lng                  float64\n",
      "dtype: object\n"
     ]
    }
   ],
   "source": [
    "print(mydata.dtypes)"
   ]
  },
  {
   "cell_type": "code",
   "execution_count": null,
   "id": "65591a5f",
   "metadata": {},
   "outputs": [],
   "source": []
  },
  {
   "cell_type": "code",
   "execution_count": null,
   "id": "15f1de98",
   "metadata": {},
   "outputs": [],
   "source": []
  }
 ],
 "metadata": {
  "kernelspec": {
   "display_name": "Python 3 (ipykernel)",
   "language": "python",
   "name": "python3"
  },
  "language_info": {
   "codemirror_mode": {
    "name": "ipython",
    "version": 3
   },
   "file_extension": ".py",
   "mimetype": "text/x-python",
   "name": "python",
   "nbconvert_exporter": "python",
   "pygments_lexer": "ipython3",
   "version": "3.11.4"
  }
 },
 "nbformat": 4,
 "nbformat_minor": 5
}
